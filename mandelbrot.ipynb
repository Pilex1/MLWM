{
 "cells": [
  {
   "cell_type": "code",
   "execution_count": 1,
   "id": "167d40e5-3393-4d11-bbc1-13f9d5114000",
   "metadata": {},
   "outputs": [],
   "source": [
    "import torch\n",
    "from torch import nn\n",
    "from torch import optim\n",
    "import random\n",
    "random.seed(42)"
   ]
  },
  {
   "cell_type": "code",
   "execution_count": 24,
   "id": "d8256aa6-3a88-4184-8fbf-2ef1945dcf4a",
   "metadata": {},
   "outputs": [
    {
     "name": "stdout",
     "output_type": "stream",
     "text": [
      "x.shape: torch.Size([1000, 2])\n",
      "y.shape: torch.Size([1000, 1])\n"
     ]
    }
   ],
   "source": [
    "def in_mandelbrot(c, max_iter = 10000):\n",
    "    z = 0\n",
    "    for i in range(max_iter):\n",
    "        if z.real**2+z.imag**2 >= 4: return False\n",
    "        z = z**2 + c\n",
    "    return True\n",
    "\n",
    "def data_fn(max_val = 2, size = 1000):\n",
    "    x = []\n",
    "    y = []\n",
    "    for i in range(size):\n",
    "        c = complex(random.uniform(-max_val, max_val), random.uniform(-max_val, max_val))\n",
    "        x.append([c.real, c.imag])\n",
    "        y.append([1.0 if in_mandelbrot(c) else 0.0])\n",
    "    return torch.tensor(x), torch.tensor(y)\n",
    "\n",
    "x, y = data_fn()\n",
    "print(f'x.shape: {x.shape}')\n",
    "print(f'y.shape: {y.shape}')"
   ]
  },
  {
   "cell_type": "code",
   "execution_count": 27,
   "id": "de4370cf-068c-4a52-a172-e8fdfce93e7f",
   "metadata": {},
   "outputs": [],
   "source": [
    "device = \"cuda\" if torch.cuda.is_available() else \"cpu\"\n",
    "\n",
    "def train(data_fn, model, loss_fn, optimizer, iterations):\n",
    "    model.train()\n",
    "    for i in range(iterations):\n",
    "        x, y = data_fn()\n",
    "        x, y = x.to(device), y.to(device)\n",
    "        \n",
    "        pred = model(x)\n",
    "        loss = loss_fn(pred, y)\n",
    "        \n",
    "        optimizer.zero_grad()\n",
    "        loss.backward()\n",
    "        optimizer.step()\n",
    "        \n",
    "        if i % 100 == 0:\n",
    "            acc = (pred == y).sum().item() / len(y)\n",
    "            # note we don't need to look at the validation metrics since each training data set\n",
    "            # is randomly generated\n",
    "            print(f'iteration {i}: loss {loss.item()} accuracy: {acc}')\n",
    "            \n",
    "def test(data, model, loss_fn):\n",
    "    model.eval()\n",
    "    with torch.no_grad():\n",
    "        x, y = data\n",
    "        x, y = x.to(device), y.to(device)\n",
    "\n",
    "        pred = model(x)\n",
    "        loss = loss_fn(pred, y)\n",
    "        return loss.item()\n",
    "\n"
   ]
  },
  {
   "cell_type": "code",
   "execution_count": 28,
   "id": "c1b3c11d-f84b-4caf-b670-941e2a1a89f0",
   "metadata": {},
   "outputs": [
    {
     "name": "stdout",
     "output_type": "stream",
     "text": [
      "iteration 0: loss 0.808846652507782 validation loss 0.8085283637046814\n",
      "iteration 100: loss 0.19116398692131042 validation loss 0.21022644639015198\n",
      "iteration 200: loss 0.13568860292434692 validation loss 0.12285153567790985\n",
      "iteration 300: loss 0.09775923192501068 validation loss 0.0988861545920372\n",
      "iteration 400: loss 0.06899090111255646 validation loss 0.07769561558961868\n",
      "iteration 500: loss 0.05850527435541153 validation loss 0.03515288606286049\n",
      "iteration 600: loss 0.03838123381137848 validation loss 0.0355440229177475\n",
      "iteration 700: loss 0.02677726000547409 validation loss 0.023957708850502968\n",
      "iteration 800: loss 0.0252367090433836 validation loss 0.037648171186447144\n",
      "iteration 900: loss 0.02494014985859394 validation loss 0.033861760050058365\n"
     ]
    }
   ],
   "source": [
    "model = nn.Sequential(\n",
    "    nn.Linear(2, 64),\n",
    "    nn.ReLU(),\n",
    "    nn.Linear(64, 32),\n",
    "    nn.ReLU(),\n",
    "    nn.Linear(32, 16),\n",
    "    nn.ReLU(),\n",
    "    nn.Linear(16, 8),\n",
    "    nn.ReLU(),\n",
    "    nn.Linear(8, 1),\n",
    "    nn.Sigmoid()\n",
    ")\n",
    "loss_fn = nn.BCELoss()\n",
    "optimizer = optim.Adam(model.parameters())\n",
    "train(data_fn, model, loss_fn, optimizer, 1000)"
   ]
  },
  {
   "cell_type": "code",
   "execution_count": null,
   "id": "2ea2fcf0-3c01-4891-a9d3-6eb5c7e48c29",
   "metadata": {},
   "outputs": [],
   "source": []
  }
 ],
 "metadata": {
  "kernelspec": {
   "display_name": "Python 3 (ipykernel)",
   "language": "python",
   "name": "python3"
  },
  "language_info": {
   "codemirror_mode": {
    "name": "ipython",
    "version": 3
   },
   "file_extension": ".py",
   "mimetype": "text/x-python",
   "name": "python",
   "nbconvert_exporter": "python",
   "pygments_lexer": "ipython3",
   "version": "3.8.10"
  }
 },
 "nbformat": 4,
 "nbformat_minor": 5
}
