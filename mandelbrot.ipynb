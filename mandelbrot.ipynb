{
 "cells": [
  {
   "cell_type": "code",
   "execution_count": 1,
   "id": "167d40e5-3393-4d11-bbc1-13f9d5114000",
   "metadata": {},
   "outputs": [],
   "source": [
    "import torch\n",
    "from torch import nn\n",
    "from torch import optim\n",
    "from matplotlib import pyplot as plt\n",
    "from torch.utils.dlpack import from_dlpack\n",
    "import random\n",
    "random.seed(42)\n",
    "import cupy as cp\n",
    "cp.random.seed(42)"
   ]
  },
  {
   "cell_type": "code",
   "execution_count": 2,
   "id": "d8256aa6-3a88-4184-8fbf-2ef1945dcf4a",
   "metadata": {},
   "outputs": [
    {
     "name": "stdout",
     "output_type": "stream",
     "text": [
      "x.shape: torch.Size([1000, 2]) x.dtype: torch.float32\n",
      "y.shape: torch.Size([1000, 1]) y.dtype: torch.float32\n"
     ]
    }
   ],
   "source": [
    "def in_mandelbrot(c, max_iter = 10000):\n",
    "    z = 0\n",
    "    for i in range(max_iter):\n",
    "        if z.real**2+z.imag**2 >= 4: return False\n",
    "        z = z**2 + c\n",
    "    return True\n",
    "\n",
    "def data_fn(max_val = 1, size = 1000):\n",
    "    x = []\n",
    "    y = []\n",
    "    for i in range(size):\n",
    "        c = complex(random.uniform(-max_val, max_val), random.uniform(-max_val, max_val))\n",
    "        x.append([c.real, c.imag])\n",
    "        y.append([1.0 if in_mandelbrot(c) else 0.0])\n",
    "    return torch.tensor(x), torch.tensor(y)\n",
    "\n",
    "x, y = data_fn()\n",
    "print(f'x.shape: {x.shape} x.dtype: {x.dtype}')\n",
    "print(f'y.shape: {y.shape} y.dtype: {y.dtype}')"
   ]
  },
  {
   "cell_type": "code",
   "execution_count": 3,
   "id": "280c15ed-3c1f-4dd9-bd63-a96046437229",
   "metadata": {},
   "outputs": [
    {
     "name": "stdout",
     "output_type": "stream",
     "text": [
      "x.shape: torch.Size([1000, 2]) x.dtype: torch.float32\n",
      "y.shape: torch.Size([1000, 1]) y.dtype: torch.float32\n"
     ]
    }
   ],
   "source": [
    "# a much faster implementation of the above (if you have a beefy GPU that is)\n",
    "def fast_data_fn(max_val = 1, size = 1000):\n",
    "    max_iter = 10000\n",
    "    x = cp.random.uniform(-max_val, max_val, (size, 2), dtype=cp.float32)\n",
    "    y = cp.ElementwiseKernel(\n",
    "        'float32 c_re, float32 c_im, int32 max_iter',\n",
    "        'float32 out',\n",
    "        '''\n",
    "        out = 1;\n",
    "        float z_re = 0;\n",
    "        float z_im = 0;\n",
    "        for (int i = 0; i < max_iter; i++) {\n",
    "            if (z_re*z_re + z_im*z_im >= 4) {\n",
    "                out = 0;\n",
    "                break;\n",
    "            }\n",
    "            float z_re_new = z_re*z_re - z_im*z_im;\n",
    "            float z_im_new = 2*z_re*z_im;\n",
    "            \n",
    "            z_re = z_re_new + c_re;\n",
    "            z_im = z_im_new + c_im;\n",
    "        }\n",
    "        ''')(x[:, 0], x[:, 1], max_iter)\n",
    "    y = cp.expand_dims(y, axis=-1)\n",
    "    return from_dlpack(x.toDlpack()), from_dlpack(y.toDlpack())\n",
    "x, y = fast_data_fn()\n",
    "print(f'x.shape: {x.shape} x.dtype: {x.dtype}')\n",
    "print(f'y.shape: {y.shape} y.dtype: {y.dtype}')"
   ]
  },
  {
   "cell_type": "code",
   "execution_count": 4,
   "id": "de4370cf-068c-4a52-a172-e8fdfce93e7f",
   "metadata": {},
   "outputs": [],
   "source": [
    "device = \"cuda\" if torch.cuda.is_available() else \"cpu\"\n",
    "\n",
    "def train(data_fn, model, loss_fn, optimizer, iterations, print_every=100):\n",
    "    model.train()\n",
    "    losses = []\n",
    "    accuracies = []\n",
    "    for i in range(iterations):\n",
    "        x, y = data_fn()\n",
    "        x, y = x.to(device), y.to(device)\n",
    "        \n",
    "        pred = model(x)\n",
    "        loss = loss_fn(pred, y)\n",
    "        \n",
    "        optimizer.zero_grad()\n",
    "        loss.backward()\n",
    "        optimizer.step()\n",
    "        \n",
    "        losses.append(loss.item())\n",
    "        accuracies.append(((pred > 0.5) == y).sum().item() / len(y))\n",
    "        \n",
    "        if i % print_every == 0:\n",
    "            \n",
    "            # note we don't need to look at the validation metrics since each training data set\n",
    "            # is randomly generated\n",
    "            print(f'iteration {i}: loss {losses[-1]} accuracy: {accuracies[-1]}')\n",
    "            \n",
    "    return losses, accuracies\n",
    "def test(data, model, loss_fn):\n",
    "    model.eval()\n",
    "    with torch.no_grad():\n",
    "        x, y = data\n",
    "        x, y = x.to(device), y.to(device)\n",
    "\n",
    "        pred = model(x)\n",
    "        loss = loss_fn(pred, y)\n",
    "        return loss.item()"
   ]
  },
  {
   "cell_type": "code",
   "execution_count": 8,
   "id": "c1b3c11d-f84b-4caf-b670-941e2a1a89f0",
   "metadata": {},
   "outputs": [
    {
     "name": "stdout",
     "output_type": "stream",
     "text": [
      "iteration 0: loss 0.7854639291763306 accuracy: 0.346\n",
      "iteration 1000: loss 0.09835053235292435 accuracy: 0.959\n",
      "iteration 2000: loss 0.08494889736175537 accuracy: 0.966\n",
      "iteration 3000: loss 0.0744866356253624 accuracy: 0.974\n",
      "iteration 4000: loss 0.06476710736751556 accuracy: 0.981\n",
      "iteration 5000: loss 0.04849540442228317 accuracy: 0.978\n",
      "iteration 6000: loss 0.04451014846563339 accuracy: 0.978\n",
      "iteration 7000: loss 0.03864714875817299 accuracy: 0.983\n",
      "iteration 8000: loss 0.06010521948337555 accuracy: 0.975\n",
      "iteration 9000: loss 0.046351924538612366 accuracy: 0.977\n",
      "iteration 10000: loss 0.051589854061603546 accuracy: 0.977\n",
      "iteration 11000: loss 0.05282476916909218 accuracy: 0.979\n",
      "iteration 12000: loss 0.042627543210983276 accuracy: 0.985\n",
      "iteration 13000: loss 0.04442218318581581 accuracy: 0.979\n",
      "iteration 14000: loss 0.04839157685637474 accuracy: 0.979\n",
      "iteration 15000: loss 0.04190972447395325 accuracy: 0.98\n",
      "iteration 16000: loss 0.04151661694049835 accuracy: 0.982\n",
      "iteration 17000: loss 0.044421128928661346 accuracy: 0.982\n",
      "iteration 18000: loss 0.05441730469465256 accuracy: 0.979\n",
      "iteration 19000: loss 0.04384930804371834 accuracy: 0.981\n",
      "iteration 20000: loss 0.03643277287483215 accuracy: 0.986\n",
      "iteration 21000: loss 0.03855012729763985 accuracy: 0.983\n",
      "iteration 22000: loss 0.04091722145676613 accuracy: 0.977\n",
      "iteration 23000: loss 0.03315884992480278 accuracy: 0.986\n",
      "iteration 24000: loss 0.06206124648451805 accuracy: 0.972\n",
      "iteration 25000: loss 0.047584742307662964 accuracy: 0.981\n",
      "iteration 26000: loss 0.03426801413297653 accuracy: 0.987\n",
      "iteration 27000: loss 0.05747886747121811 accuracy: 0.974\n",
      "iteration 28000: loss 0.03964180126786232 accuracy: 0.985\n",
      "iteration 29000: loss 0.0590628907084465 accuracy: 0.975\n",
      "iteration 30000: loss 0.03529331088066101 accuracy: 0.985\n",
      "iteration 31000: loss 0.03319547325372696 accuracy: 0.987\n",
      "iteration 32000: loss 0.030723802745342255 accuracy: 0.988\n",
      "iteration 33000: loss 0.03092789649963379 accuracy: 0.988\n",
      "iteration 34000: loss 0.043082498013973236 accuracy: 0.982\n",
      "iteration 35000: loss 0.03329676017165184 accuracy: 0.986\n",
      "iteration 36000: loss 0.039735909551382065 accuracy: 0.981\n",
      "iteration 37000: loss 0.028368934988975525 accuracy: 0.989\n",
      "iteration 38000: loss 0.03936789184808731 accuracy: 0.982\n",
      "iteration 39000: loss 0.047261279076337814 accuracy: 0.982\n",
      "iteration 40000: loss 0.03610678389668465 accuracy: 0.983\n",
      "iteration 41000: loss 0.045630279928445816 accuracy: 0.982\n",
      "iteration 42000: loss 0.027535455301404 accuracy: 0.99\n",
      "iteration 43000: loss 0.03337199613451958 accuracy: 0.987\n",
      "iteration 44000: loss 0.047017887234687805 accuracy: 0.981\n",
      "iteration 45000: loss 0.049279458820819855 accuracy: 0.978\n",
      "iteration 46000: loss 0.03884674981236458 accuracy: 0.982\n",
      "iteration 47000: loss 0.035706330090761185 accuracy: 0.981\n",
      "iteration 48000: loss 0.040591638535261154 accuracy: 0.981\n",
      "iteration 49000: loss 0.028981590643525124 accuracy: 0.99\n",
      "iteration 50000: loss 0.03929150104522705 accuracy: 0.984\n",
      "iteration 51000: loss 0.03634228557348251 accuracy: 0.983\n",
      "iteration 52000: loss 0.04216308891773224 accuracy: 0.982\n",
      "iteration 53000: loss 0.0334894172847271 accuracy: 0.984\n",
      "iteration 54000: loss 0.03548591956496239 accuracy: 0.985\n",
      "iteration 55000: loss 0.0265487227588892 accuracy: 0.987\n",
      "iteration 56000: loss 0.027897071093320847 accuracy: 0.987\n",
      "iteration 57000: loss 0.047855548560619354 accuracy: 0.981\n",
      "iteration 58000: loss 0.04285426437854767 accuracy: 0.982\n",
      "iteration 59000: loss 0.027711309492588043 accuracy: 0.985\n",
      "iteration 60000: loss 0.029820485040545464 accuracy: 0.986\n",
      "iteration 61000: loss 0.06914450973272324 accuracy: 0.975\n",
      "iteration 62000: loss 0.03889484703540802 accuracy: 0.978\n",
      "iteration 63000: loss 0.0510483980178833 accuracy: 0.98\n",
      "iteration 64000: loss 0.04540637880563736 accuracy: 0.981\n",
      "iteration 65000: loss 0.03749862313270569 accuracy: 0.986\n",
      "iteration 66000: loss 0.04462234303355217 accuracy: 0.979\n",
      "iteration 67000: loss 0.05230754241347313 accuracy: 0.977\n",
      "iteration 68000: loss 0.036558136343955994 accuracy: 0.986\n",
      "iteration 69000: loss 0.044206783175468445 accuracy: 0.98\n",
      "iteration 70000: loss 0.03948191925883293 accuracy: 0.981\n",
      "iteration 71000: loss 0.04272371903061867 accuracy: 0.98\n",
      "iteration 72000: loss 0.03196612372994423 accuracy: 0.986\n",
      "iteration 73000: loss 0.03728276118636131 accuracy: 0.984\n",
      "iteration 74000: loss 0.020839957520365715 accuracy: 0.993\n",
      "iteration 75000: loss 0.04939506947994232 accuracy: 0.98\n",
      "iteration 76000: loss 0.04066568240523338 accuracy: 0.983\n",
      "iteration 77000: loss 0.03320072963833809 accuracy: 0.986\n",
      "iteration 78000: loss 0.02576017752289772 accuracy: 0.989\n",
      "iteration 79000: loss 0.03635931387543678 accuracy: 0.986\n",
      "iteration 80000: loss 0.0474090576171875 accuracy: 0.983\n",
      "iteration 81000: loss 0.03121541440486908 accuracy: 0.984\n",
      "iteration 82000: loss 0.044572614133358 accuracy: 0.984\n",
      "iteration 83000: loss 0.02647554874420166 accuracy: 0.989\n",
      "iteration 84000: loss 0.03586362674832344 accuracy: 0.988\n",
      "iteration 85000: loss 0.039816807955503464 accuracy: 0.981\n",
      "iteration 86000: loss 0.03649042546749115 accuracy: 0.981\n",
      "iteration 87000: loss 0.02416839636862278 accuracy: 0.987\n",
      "iteration 88000: loss 0.03646572306752205 accuracy: 0.983\n",
      "iteration 89000: loss 0.028613222762942314 accuracy: 0.985\n",
      "iteration 90000: loss 0.0374419130384922 accuracy: 0.982\n",
      "iteration 91000: loss 0.058011237531900406 accuracy: 0.979\n",
      "iteration 92000: loss 0.03178776428103447 accuracy: 0.986\n",
      "iteration 93000: loss 0.04379113391041756 accuracy: 0.98\n",
      "iteration 94000: loss 0.02418830245733261 accuracy: 0.992\n",
      "iteration 95000: loss 0.04540491849184036 accuracy: 0.98\n",
      "iteration 96000: loss 0.02341298758983612 accuracy: 0.989\n",
      "iteration 97000: loss 0.031921278685331345 accuracy: 0.987\n",
      "iteration 98000: loss 0.02732834778726101 accuracy: 0.986\n",
      "iteration 99000: loss 0.03727979585528374 accuracy: 0.986\n"
     ]
    }
   ],
   "source": [
    "model = nn.Sequential(\n",
    "    nn.Linear(2, 64),\n",
    "    nn.ReLU(),\n",
    "    nn.Linear(64, 32),\n",
    "    nn.ReLU(),\n",
    "    nn.Linear(32, 16),\n",
    "    nn.ReLU(),\n",
    "    nn.Linear(16, 8),\n",
    "    nn.ReLU(),\n",
    "    nn.Linear(8, 1),\n",
    "    nn.Sigmoid()\n",
    ")\n",
    "model.to(device)\n",
    "# binary cross entropy loss\n",
    "loss_fn = nn.BCELoss()\n",
    "optimizer = optim.Adam(model.parameters())\n",
    "losses, accuracies = train(fast_data_fn, model, loss_fn, optimizer, 100000, print_every=1000)"
   ]
  },
  {
   "cell_type": "code",
   "execution_count": 9,
   "id": "2ea2fcf0-3c01-4891-a9d3-6eb5c7e48c29",
   "metadata": {},
   "outputs": [
    {
     "data": {
      "text/plain": [
       "[]"
      ]
     },
     "execution_count": 9,
     "metadata": {},
     "output_type": "execute_result"
    },
    {
     "data": {
      "image/png": "[encoded data removed]",
      "text/plain": [
       "<Figure size 720x288 with 1 Axes>"
      ]
     },
     "metadata": {
      "needs_background": "light"
     },
     "output_type": "display_data"
    }
   ],
   "source": [
    "fig, ax = plt.subplots(figsize=(10, 4))\n",
    "ax.plot(losses, label='Loss')\n",
    "ax.plot(accuracies, label='Accuracy')\n",
    "ax.set_xlabel('Iteration')\n",
    "ax.set_ylabel('MSE')\n",
    "ax.set_title('Metrics')\n",
    "ax.legend()\n",
    "plt.plot()"
   ]
  },
  {
   "cell_type": "code",
   "execution_count": 13,
   "id": "f73d68ad-0b08-4e40-a023-a89f5fb4c3ab",
   "metadata": {},
   "outputs": [
    {
     "data": {
      "image/png": "[encoded data removed]",
      "text/plain": [
       "<Figure size 360x360 with 1 Axes>"
      ]
     },
     "metadata": {
      "needs_background": "light"
     },
     "output_type": "display_data"
    }
   ],
   "source": [
    "def make_xsys(xs, ys):\n",
    "    # Given two vectors (of shape (n) and (m)), return a tensor of shape\n",
    "    # (n, m, 2) such that T[i, j, :] are the (x, y) coordinates at point [i, j].\n",
    "    return torch.stack(torch.meshgrid(xs, ys), dim=-1).type(torch.float)\n",
    "\n",
    "# Make 100 equally spaced x and y points in the range [-1, 2]. Feed all the\n",
    "# (x, y) pairs into the model, then convert to a Numpy array. The resulting\n",
    "# tensor will have shape (n, m, 1) instead of (n, m), so squeeze the last\n",
    "# coordinate away.\n",
    "xs = ys = torch.linspace(-1, 1, 200).to(device)\n",
    "values = model(make_xsys(xs, ys)).detach()[:, :, 0]\n",
    "\n",
    "# Plot the heatmap of the model, and an ad-hoc scatterplot of the XOR points.\n",
    "fig, ax = plt.subplots(1, 1, figsize=(5, 5))\n",
    "ax.pcolormesh(xs.cpu(), ys.cpu(), values.cpu())\n",
    "plt.show()"
   ]
  }
 ],
 "metadata": {
  "kernelspec": {
   "display_name": "venv-affine",
   "language": "python",
   "name": "venv-affine"
  },
  "language_info": {
   "codemirror_mode": {
    "name": "ipython",
    "version": 3
   },
   "file_extension": ".py",
   "mimetype": "text/x-python",
   "name": "python",
   "nbconvert_exporter": "python",
   "pygments_lexer": "ipython3",
   "version": "3.8.10"
  }
 },
 "nbformat": 4,
 "nbformat_minor": 5
}
